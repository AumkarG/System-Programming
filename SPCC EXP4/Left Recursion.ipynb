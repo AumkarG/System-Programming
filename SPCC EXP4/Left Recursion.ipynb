{
 "cells": [
  {
   "cell_type": "markdown",
   "metadata": {},
   "source": [
    "## Accept number of productions"
   ]
  },
  {
   "cell_type": "code",
   "execution_count": 1,
   "metadata": {},
   "outputs": [
    {
     "name": "stdout",
     "output_type": "stream",
     "text": [
      "Enter Number of productions 2\n"
     ]
    }
   ],
   "source": [
    "n=int(input(\"Enter Number of productions \"))"
   ]
  },
  {
   "cell_type": "markdown",
   "metadata": {},
   "source": [
    "## Take productions as input to generate V,T,P"
   ]
  },
  {
   "cell_type": "code",
   "execution_count": 2,
   "metadata": {},
   "outputs": [
    {
     "name": "stdout",
     "output_type": "stream",
     "text": [
      "Enter production of the form V->(V U T) S->Aa|b\n",
      "Enter production of the form V->(V U T) A->Ac|Sd\n",
      "['a', '|', 'b', 'c', 'd']\n",
      "['S', 'A']\n",
      "[['Aa', 'b'], ['Ac', 'Sd']]\n"
     ]
    }
   ],
   "source": [
    "Sym=[]\n",
    "V=[]\n",
    "T=[]\n",
    "P=[]\n",
    "for i in range(n):\n",
    "    prod=input(\"Enter production of the form V->(V U T) \")\n",
    "    v=prod[0]\n",
    "    if v not in V:\n",
    "        V.append(v)\n",
    "        P.append([])\n",
    "    ind=V.index(v)\n",
    "    for j in range(3,len(prod)):\n",
    "        if(prod[j] not in Sym):\n",
    "            Sym.append(prod[j])\n",
    "    lst=prod[3:].split('|')\n",
    "    for z in lst:\n",
    "        P[ind].append(z)\n",
    "for j in Sym:\n",
    "    if j not in V:\n",
    "        T.append(j)\n",
    "print(T)\n",
    "print(V)\n",
    "print(P)"
   ]
  },
  {
   "cell_type": "markdown",
   "metadata": {},
   "source": [
    "## Eliminate indirect recursions "
   ]
  },
  {
   "cell_type": "code",
   "execution_count": 3,
   "metadata": {},
   "outputs": [],
   "source": [
    "l=len(V)\n",
    "for i in range(l):\n",
    "    for j in range(i):\n",
    "        for p in P[i]:\n",
    "            if(p[0]==V[j]):\n",
    "                for k in P[j]:\n",
    "                    P[i].append(k+p[1:])\n",
    "                P[i].remove(p)\n"
   ]
  },
  {
   "cell_type": "code",
   "execution_count": 4,
   "metadata": {},
   "outputs": [
    {
     "name": "stdout",
     "output_type": "stream",
     "text": [
      "S->Aa|b\n",
      "A->Ac|Aad|bd\n"
     ]
    }
   ],
   "source": [
    "for i in range(len(V)):\n",
    "    res=V[i]+'->'+P[i][0]\n",
    "    for j in range(1,len(P[i])):\n",
    "        res+='|'+P[i][j]\n",
    "    print(res)"
   ]
  },
  {
   "cell_type": "markdown",
   "metadata": {},
   "source": [
    "## Eliminate Direct Recursion"
   ]
  },
  {
   "cell_type": "code",
   "execution_count": 5,
   "metadata": {},
   "outputs": [
    {
     "name": "stdout",
     "output_type": "stream",
     "text": [
      "Ac\n",
      "Aad\n",
      "bd\n",
      "['S', 'A', \"A'\"]\n",
      "[['Aa', 'b'], [\"bdA'\"], [\"cA'\", \"adA'\", 'ε']]\n"
     ]
    }
   ],
   "source": [
    "for i in range(l):\n",
    "    flag=0\n",
    "    for j in P[i]:\n",
    "        if(j[0]==V[i]):\n",
    "            flag=1\n",
    "            break\n",
    "    if(flag==1):\n",
    "        V.append(V[i]+'\\'')\n",
    "        P.append([])\n",
    "        j=0\n",
    "        l=len(P[i])\n",
    "        while(j<l):\n",
    "            if(P[i][j][0]==V[i]):\n",
    "                P[len(P)-1].append(P[i][j][1:]+V[i]+'\\'')\n",
    "            else:\n",
    "                if(P[i]=='ε'):\n",
    "                    P[i].append(V[i]+'\\'')\n",
    "                else:\n",
    "                    P[i].append(P[i][j]+V[i]+'\\'')\n",
    "            P[i].remove(P[i][j])\n",
    "            l-=1\n",
    "        P[len(P)-1].append('ε')\n",
    "\n",
    "            \n",
    "print(V)\n",
    "print(P)"
   ]
  },
  {
   "cell_type": "markdown",
   "metadata": {},
   "source": [
    "## Final productions after complete removal of left recursion"
   ]
  },
  {
   "cell_type": "code",
   "execution_count": 6,
   "metadata": {},
   "outputs": [
    {
     "name": "stdout",
     "output_type": "stream",
     "text": [
      "S->Aa|b\n",
      "A->bdA'\n",
      "A'->cA'|adA'|ε\n"
     ]
    }
   ],
   "source": [
    "for i in range(len(V)):\n",
    "    res=V[i]+'->'+P[i][0]\n",
    "    for j in range(1,len(P[i])):\n",
    "        res+='|'+P[i][j]\n",
    "    print(res)"
   ]
  }
 ],
 "metadata": {
  "kernelspec": {
   "display_name": "Python 3",
   "language": "python",
   "name": "python3"
  },
  "language_info": {
   "codemirror_mode": {
    "name": "ipython",
    "version": 3
   },
   "file_extension": ".py",
   "mimetype": "text/x-python",
   "name": "python",
   "nbconvert_exporter": "python",
   "pygments_lexer": "ipython3",
   "version": "3.7.3"
  }
 },
 "nbformat": 4,
 "nbformat_minor": 2
}
